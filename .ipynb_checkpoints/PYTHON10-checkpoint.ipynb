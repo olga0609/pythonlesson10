{
 "cells": [
  {
   "cell_type": "markdown",
   "metadata": {},
   "source": [
    "### Задание 1"
   ]
  },
  {
   "cell_type": "code",
   "execution_count": 2,
   "metadata": {},
   "outputs": [],
   "source": [
    "import pandas as pd"
   ]
  },
  {
   "cell_type": "code",
   "execution_count": 31,
   "metadata": {},
   "outputs": [
    {
     "data": {
      "text/plain": [
       "movieId    187595\n",
       "rating          5\n",
       "dtype: int64"
      ]
     },
     "execution_count": 31,
     "metadata": {},
     "output_type": "execute_result"
    }
   ],
   "source": [
    "data = pd.read_csv('ratings.csv')\n",
    "data.groupby('movieId').count().query('rating == 5').reset_index()[['movieId', 'rating']].max()"
   ]
  },
  {
   "cell_type": "markdown",
   "metadata": {},
   "source": [
    "### Задание 2"
   ]
  },
  {
   "cell_type": "code",
   "execution_count": 68,
   "metadata": {},
   "outputs": [
    {
     "data": {
      "text/plain": [
       "83436331.05297811"
      ]
     },
     "execution_count": 68,
     "metadata": {},
     "output_type": "execute_result"
    }
   ],
   "source": [
    "data1 = pd.read_csv('power.csv')\n",
    "filtered_countries = data1[ (data1['country']=='Latvia') | (data1['country']=='Estonia') | (data1['country']=='Lithuania') & ((data1['year'] < 2010) & (data1['year'] > 2005)) & ((data1['category'] == 4) | (data1['category'] == 12) | (data1['category'] == 21))] \n",
    "filtered_countries.quantity.sum()\n"
   ]
  },
  {
   "cell_type": "markdown",
   "metadata": {},
   "source": [
    "### Задание 3"
   ]
  },
  {
   "cell_type": "code",
   "execution_count": 78,
   "metadata": {},
   "outputs": [
    {
     "data": {
      "text/plain": [
       "[    Unnamed: 0              Рубль  Предложение  Спрос  Предыдущее закрытие  \\\n",
       " 0          NaN            GBP/RUB      1008682      -              1007996   \n",
       " 1          NaN            EUR/RUB       900600      -               904590   \n",
       " 2          NaN            USD/RUB       759835      -               762420   \n",
       " 3          NaN            JPY/RUB        07316      -                07298   \n",
       " 4          NaN            CNY/RUB       115813      -               115967   \n",
       " 5          NaN            CHF/RUB       833568      -               834358   \n",
       " 6          NaN               Евро  Предложение  Спрос  Предыдущее закрытие   \n",
       " 7          NaN            EUR/USD        11853      -                11864   \n",
       " 8          NaN            EUR/GBP        08933      -                08951   \n",
       " 9          NaN            EUR/JPY      1231120      -              1236000   \n",
       " 10         NaN            EUR/CHF        10803      -                10814   \n",
       " 11         NaN         Доллар США  Предложение  Спрос  Предыдущее закрытие   \n",
       " 12         NaN            USD/EUR        08436      -                08429   \n",
       " 13         NaN            USD/GBP        07536      -                07543   \n",
       " 14         NaN            USD/JPY      1038500      -              1041700   \n",
       " 15         NaN            USD/CHF        09114      -                09115   \n",
       " 16         NaN      Японская иена  Предложение  Спрос  Предыдущее закрытие   \n",
       " 17         NaN    JPY/EUR (100:1)        08100      -                08100   \n",
       " 18         NaN            JPY/GBP        00073      -                00072   \n",
       " 19         NaN            JPY/USD        00096      -                00096   \n",
       " 20         NaN    JPY/CHF (100:1)        08800      -                08700   \n",
       " 21         NaN    Фунт стерлингов  Предложение  Спрос  Предыдущее закрытие   \n",
       " 22         NaN            GBP/USD        13270      -                13253   \n",
       " 23         NaN            GBP/JPY      1378039      -              1381207   \n",
       " 24         NaN            GBP/EUR        11196      -                11175   \n",
       " 25         NaN            GBP/CHF        12094      -                12080   \n",
       " 26         NaN  Швейцарский франк  Предложение  Спрос  Предыдущее закрытие   \n",
       " 27         NaN            GBP/CHF        12094      -                12080   \n",
       " 28         NaN            EUR/CHF        10803      -                10814   \n",
       " 29         NaN    JPY/CHF (100:1)        08800      -                08700   \n",
       " 30         NaN            USD/CHF        09114      -                09115   \n",
       " 31         NaN  Украинская гривна  Предложение  Спрос  Предыдущее закрытие   \n",
       " 32         NaN            EUR/UAH       334269      -               333852   \n",
       " 33         NaN            USD/UAH       282000      -               281388   \n",
       " 34         NaN            CHF/UAH       309380      -               308776   \n",
       " 35         NaN            GBP/UAH       374186      -               373035   \n",
       " \n",
       "           %  Абсолютное значение     Время  \n",
       " 0    0,07 %                00686  00:23:00  \n",
       " 1   -0,44 %               -03990  00:29:00  \n",
       " 2   -0,34 %               -02585  00:29:00  \n",
       " 3    0,24 %                00018  00:30:00  \n",
       " 4   -0,13 %               -00154  00:29:00  \n",
       " 5   -0,09 %               -00790  00:30:00  \n",
       " 6         %  Абсолютное значение     Время  \n",
       " 7   -0,09 %               -00011  00:29:00  \n",
       " 8   -0,20 %               -00018  00:29:00  \n",
       " 9   -0,39 %               -04880  00:29:00  \n",
       " 10  -0,10 %               -00011  00:29:00  \n",
       " 11        %  Абсолютное значение     Время  \n",
       " 12   0,09 %                00008  00:30:00  \n",
       " 13  -0,10 %               -00007  00:30:00  \n",
       " 14  -0,31 %               -03200  00:29:00  \n",
       " 15  -0,01 %               -00001  00:29:00  \n",
       " 16        %  Абсолютное значение     Время  \n",
       " 17   0,41 %                00000  00:29:00  \n",
       " 18   0,22 %                00000  00:30:00  \n",
       " 19   0,32 %                00000  00:29:00  \n",
       " 20   0,29 %                00000  00:29:00  \n",
       " 21        %  Абсолютное значение     Время  \n",
       " 22   0,13 %                00017  00:29:00  \n",
       " 23  -0,23 %               -03168  00:30:00  \n",
       " 24   0,18 %                00021  00:29:00  \n",
       " 25   0,12 %                00014  00:29:00  \n",
       " 26        %  Абсолютное значение     Время  \n",
       " 27   0,12 %                00014  00:29:00  \n",
       " 28  -0,10 %               -00011  00:29:00  \n",
       " 29   0,29 %                00000  00:29:00  \n",
       " 30  -0,01 %               -00001  00:29:00  \n",
       " 31        %  Абсолютное значение     Время  \n",
       " 32   0,12 %                00417  00:30:00  \n",
       " 33   0,22 %                00613  00:29:00  \n",
       " 34   0,20 %                00604  00:29:00  \n",
       " 35   0,31 %                01150  00:23:00  ]"
      ]
     },
     "execution_count": 78,
     "metadata": {},
     "output_type": "execute_result"
    }
   ],
   "source": [
    "page_url = 'https://www.finanz.ru/valyuty/v-realnom-vremeni'\n",
    "df = pd.read_html(page_url, attrs = {'class': 'quote_list'}, encoding='utf-8')\n",
    "df[:5]"
   ]
  },
  {
   "cell_type": "code",
   "execution_count": null,
   "metadata": {},
   "outputs": [],
   "source": []
  }
 ],
 "metadata": {
  "kernelspec": {
   "display_name": "Python 3",
   "language": "python",
   "name": "python3"
  },
  "language_info": {
   "codemirror_mode": {
    "name": "ipython",
    "version": 3
   },
   "file_extension": ".py",
   "mimetype": "text/x-python",
   "name": "python",
   "nbconvert_exporter": "python",
   "pygments_lexer": "ipython3",
   "version": "3.8.3"
  }
 },
 "nbformat": 4,
 "nbformat_minor": 4
}
